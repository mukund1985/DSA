{
  "nbformat": 4,
  "nbformat_minor": 0,
  "metadata": {
    "colab": {
      "provenance": [],
      "collapsed_sections": [],
      "authorship_tag": "ABX9TyNWi1wwhMBGw/3GiISqHfQf",
      "include_colab_link": true
    },
    "kernelspec": {
      "name": "python3",
      "display_name": "Python 3"
    },
    "language_info": {
      "name": "python"
    }
  },
  "cells": [
    {
      "cell_type": "markdown",
      "metadata": {
        "id": "view-in-github",
        "colab_type": "text"
      },
      "source": [
        "<a href=\"https://colab.research.google.com/github/mukund1985/DSA/blob/master/Basic_DSA_Revision.ipynb\" target=\"_parent\"><img src=\"https://colab.research.google.com/assets/colab-badge.svg\" alt=\"Open In Colab\"/></a>"
      ]
    },
    {
      "cell_type": "markdown",
      "source": [
        "**Data Structure and Algorithms in Python**\n",
        "\n",
        "\n",
        "\n",
        "1. Introduction to Data Structure\n",
        "2. Inbuilt and User-Defined Data Structure in Python\n",
        "3. Arrays Introduction\n",
        "4. Arrays Implementation\n",
        "5. Advantages and Disadvantages of Arrays\n",
        "6. Complexity of Array\n",
        "7. Stack Introduction\n",
        "8. Stack Implementation\n",
        "9. Advantages and Disadvantages of Stack\n",
        "10. Complexity of Stack\n",
        "11. Queue introduction\n",
        "12. Queue implementation\n",
        "13. Advantages and Disadvantages of Queue\n",
        "14. Complexity of Queue\n",
        "\n"
      ],
      "metadata": {
        "id": "mwAF41XNtu1M"
      }
    },
    {
      "cell_type": "code",
      "source": [],
      "metadata": {
        "id": "sgi_U1Usuyag"
      },
      "execution_count": null,
      "outputs": []
    }
  ]
}